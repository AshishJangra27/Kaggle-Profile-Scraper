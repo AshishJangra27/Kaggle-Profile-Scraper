{
 "cells": [
  {
   "cell_type": "code",
   "execution_count": 227,
   "id": "eb898983",
   "metadata": {},
   "outputs": [
    {
     "name": "stderr",
     "output_type": "stream",
     "text": [
      "/var/folders/rq/lwddjvtn5n9gjw05hwrg3hp80000gn/T/ipykernel_1082/2700938162.py:16: DeprecationWarning: executable_path has been deprecated, please pass in a Service object\n",
      "  driver = webdriver.Chrome('/Users/ashishzangra/opt/anaconda3/lib/python3.9/site-packages/chromedriver_binary/chromedriver')\n"
     ]
    }
   ],
   "source": [
    "import time\n",
    "import requests\n",
    "import numpy as np\n",
    "import pandas as pd\n",
    "from tqdm import tqdm\n",
    "\n",
    "import chromedriver_binary\n",
    "from bs4 import BeautifulSoup\n",
    "from selenium import webdriver\n",
    "\n",
    "month_dct = {'Jan' : 1, 'Feb' : 2, 'Mar' : 3, \n",
    "             'Apr' : 4, 'May' : 5, 'Jun' : 6,\n",
    "             'Jul' : 7, 'Aug' : 8, 'Sep' : 9, \n",
    "             'Oct' : 10,'Nov' : 11, 'Dec' : 12}\n",
    "\n",
    "driver = webdriver.Chrome('/Users/ashishzangra/opt/anaconda3/lib/python3.9/site-packages/chromedriver_binary/chromedriver')\n",
    "\n",
    "driver.get('https://www.kaggle.com/')"
   ]
  },
  {
   "cell_type": "markdown",
   "id": "46033a70",
   "metadata": {},
   "source": [
    "### 1. Scraping Data from Kaggle"
   ]
  },
  {
   "cell_type": "code",
   "execution_count": 231,
   "id": "689bb996",
   "metadata": {
    "scrolled": true
   },
   "outputs": [
    {
     "name": "stderr",
     "output_type": "stream",
     "text": [
      "100%|█████████████████████████████████████████| 500/500 [25:19<00:00,  3.04s/it]\n"
     ]
    }
   ],
   "source": [
    "data = []\n",
    "\n",
    "for page in tqdm(range(1,501)):                     # Going through each page\n",
    "\n",
    "                                                    # Creating Page Link\n",
    "    link = 'https://www.kaggle.com/datasets?page=' + str(page)\n",
    "    driver.get(link)                                # Sending Request to that link\n",
    "     \n",
    "    time.sleep(2)                                   # Adding delay of 2 seconds so that the whole page is opened\n",
    "    \n",
    "    soup = BeautifulSoup(driver.page_source, 'html.parser')            # Converitng page to soup\n",
    "    sp = soup.find('ul', class_ = 'km-list km-list--three-line')       # Shortlisting dataset\n",
    "\n",
    "\n",
    "    for dataset in sp.find_all('li'):               # Going through each dataset\n",
    " \n",
    "\n",
    "        try:                                        # Extracting Dataset Link\n",
    "            dataset_link = 'https://www.kaggle.com' + dataset.find('a').get('href')\n",
    "        except:\n",
    "            dataset_link = np.nan\n",
    "\n",
    "        try:                                        # Image Link\n",
    "            img_link     = dataset.find('div',class_ = 'sc-ieieiu hkWzeY').get('style')\n",
    "            img_link     = 'https' + img_link.split('https')[1].split('?')[0]\n",
    "        except:\n",
    "            img_link     = np.nan\n",
    "\n",
    "        try:                                        # Extracting title of the dataset\n",
    "            title        = dataset.find('div',class_ = 'sc-iCoGMd sc-fKgJPI sc-ckTSus cHRTxu cxbltl bVSQFd').text.strip()\n",
    "        except:\n",
    "            title        = np.nan\n",
    "\n",
    "        try:                                        # Extracting name of the author\n",
    "            author_name  = dataset.find_all('span',class_ = 'sc-jJMGnK sc-hiKfDv sc-FRrlG lkfHZi dRsyqq bFavVq')[0].find('a').text.strip()\n",
    "        except:\n",
    "            author_name  = np.nan\n",
    "\n",
    "        try:                                        # Extracting the author id\n",
    "            author_id    = 'https://www.kaggle.com' + dataset.find_all('span',class_ = 'sc-jJMGnK sc-hiKfDv sc-FRrlG lkfHZi dRsyqq bFavVq')[0].find('a').get('href')\n",
    "        except:\n",
    "            author_id    = np.nan\n",
    "\n",
    "\n",
    "        try:                                        # Extracting Date-time\n",
    "            date_time    = dataset.find_all('span',class_ = 'sc-jJMGnK sc-hiKfDv sc-FRrlG lkfHZi dRsyqq bFavVq')[0].find('span').get('title')[:-31].strip()\n",
    "\n",
    "            temp_date    = date_time.split(\" \")[1:-1]\n",
    "            temp_date[0] = str(month_dct[temp_date[0]])\n",
    "\n",
    "            date         = '/'.join(temp_date)\n",
    "            day          = date_time.split(' ')[0]\n",
    "            time_         = date_time.split(' ')[-1]\n",
    "\n",
    "        except:\n",
    "            date_time    = np.nan\n",
    "            date         = np.nan\n",
    "            day          = np.nan\n",
    "            time_         = np.nan\n",
    "\n",
    "        try:                                         # Extracting Usability\n",
    "            usability    = float(dataset.find_all('span',class_ = 'sc-jJMGnK sc-hiKfDv sc-FRrlG lkfHZi dRsyqq bFavVq')[1].find('span').text.strip())\n",
    "        except:\n",
    "            usability    = np.nan\n",
    "\n",
    "        try:                                        # Basic Data Information\n",
    "            data_info    = dataset.find_all('span',class_ = 'sc-jJMGnK sc-hiKfDv sc-FRrlG lkfHZi dRsyqq bFavVq')[1].text.split('·')[1].strip()\n",
    "            no_of_files  = int(data_info.split(' ')[0])\n",
    "            file_type    = data_info.split(' ')[-1][1:-1]\n",
    "        except:\n",
    "            data_info    = np.nan\n",
    "            no_of_files  = np.nan\n",
    "\n",
    "        try:                                        # Extracting Size\n",
    "            size         = dataset.find_all('span',class_ = 'sc-jJMGnK sc-hiKfDv sc-FRrlG lkfHZi dRsyqq bFavVq')[1].text.split('·')[2].strip()\n",
    "        except:\n",
    "            size         = np.nan\n",
    "\n",
    "        try:                                        # Extracting Upvotes\n",
    "            upvotes      = int(dataset.find('span', mode = 'default').text.strip())\n",
    "        except:\n",
    "            upvotes      = np.nan\n",
    "\n",
    "\n",
    "        try:                                        # Extracting Medal\n",
    "            medals       = dataset.find('span', class_ = 'sc-jJMGnK sc-hiKfDv lkfHZi dRsyqq').text.strip()\n",
    "        except:\n",
    "            medals       = np.nan\n",
    "\n",
    "        # Adding All data in a list\n",
    "        data.append([title, author_name, author_id, size, file_type, no_of_files, upvotes, medals, usability,\n",
    "                     date, day,time_, dataset_link, img_link])"
   ]
  },
  {
   "cell_type": "markdown",
   "id": "9fc10498",
   "metadata": {},
   "source": [
    "### 2. Saving Data in a DataFrame"
   ]
  },
  {
   "cell_type": "code",
   "execution_count": 268,
   "id": "28f06e57",
   "metadata": {
    "scrolled": true
   },
   "outputs": [
    {
     "data": {
      "text/html": [
       "<div>\n",
       "<style scoped>\n",
       "    .dataframe tbody tr th:only-of-type {\n",
       "        vertical-align: middle;\n",
       "    }\n",
       "\n",
       "    .dataframe tbody tr th {\n",
       "        vertical-align: top;\n",
       "    }\n",
       "\n",
       "    .dataframe thead th {\n",
       "        text-align: right;\n",
       "    }\n",
       "</style>\n",
       "<table border=\"1\" class=\"dataframe\">\n",
       "  <thead>\n",
       "    <tr style=\"text-align: right;\">\n",
       "      <th></th>\n",
       "      <th>title</th>\n",
       "      <th>author_name</th>\n",
       "      <th>author_id</th>\n",
       "      <th>size</th>\n",
       "      <th>file_type</th>\n",
       "      <th>no_of_files</th>\n",
       "      <th>upvotes</th>\n",
       "      <th>medal</th>\n",
       "      <th>usability</th>\n",
       "      <th>date</th>\n",
       "      <th>day</th>\n",
       "      <th>time</th>\n",
       "      <th>dataset_link</th>\n",
       "      <th>img_link</th>\n",
       "    </tr>\n",
       "  </thead>\n",
       "  <tbody>\n",
       "    <tr>\n",
       "      <th>0</th>\n",
       "      <td>Netflix TV Shows and Movies</td>\n",
       "      <td>Victor Soeiro</td>\n",
       "      <td>https://www.kaggle.com/victorsoeiro</td>\n",
       "      <td>2 MB</td>\n",
       "      <td>CSV</td>\n",
       "      <td>2</td>\n",
       "      <td>180</td>\n",
       "      <td>Bronze</td>\n",
       "      <td>10.0</td>\n",
       "      <td>5/15/2022</td>\n",
       "      <td>Sun</td>\n",
       "      <td>05:31:23</td>\n",
       "      <td>https://www.kaggle.com/datasets/victorsoeiro/n...</td>\n",
       "      <td>NaN</td>\n",
       "    </tr>\n",
       "    <tr>\n",
       "      <th>1</th>\n",
       "      <td>Supermarket store branches sales analysis</td>\n",
       "      <td>Suraj Jha</td>\n",
       "      <td>https://www.kaggle.com/surajjha101</td>\n",
       "      <td>10 kB</td>\n",
       "      <td>CSV</td>\n",
       "      <td>1</td>\n",
       "      <td>154</td>\n",
       "      <td>Gold</td>\n",
       "      <td>10.0</td>\n",
       "      <td>4/29/2022</td>\n",
       "      <td>Fri</td>\n",
       "      <td>16:40:16</td>\n",
       "      <td>https://www.kaggle.com/datasets/surajjha101/st...</td>\n",
       "      <td>NaN</td>\n",
       "    </tr>\n",
       "    <tr>\n",
       "      <th>2</th>\n",
       "      <td>Student Performance Dataset</td>\n",
       "      <td>Dev Ansodariya</td>\n",
       "      <td>https://www.kaggle.com/devansodariya</td>\n",
       "      <td>7 kB</td>\n",
       "      <td>CSV</td>\n",
       "      <td>1</td>\n",
       "      <td>108</td>\n",
       "      <td>Bronze</td>\n",
       "      <td>9.7</td>\n",
       "      <td>5/26/2022</td>\n",
       "      <td>Thu</td>\n",
       "      <td>19:25:09</td>\n",
       "      <td>https://www.kaggle.com/datasets/devansodariya/...</td>\n",
       "      <td>NaN</td>\n",
       "    </tr>\n",
       "    <tr>\n",
       "      <th>3</th>\n",
       "      <td>Top Hits Spotify from 2000-2019</td>\n",
       "      <td>Mark Koverha</td>\n",
       "      <td>https://www.kaggle.com/paradisejoy</td>\n",
       "      <td>96 kB</td>\n",
       "      <td>CSV</td>\n",
       "      <td>1</td>\n",
       "      <td>120</td>\n",
       "      <td>Silver</td>\n",
       "      <td>10.0</td>\n",
       "      <td>5/31/2022</td>\n",
       "      <td>Tue</td>\n",
       "      <td>12:50:57</td>\n",
       "      <td>https://www.kaggle.com/datasets/paradisejoy/to...</td>\n",
       "      <td>NaN</td>\n",
       "    </tr>\n",
       "    <tr>\n",
       "      <th>4</th>\n",
       "      <td>Amex Competition Data in Parquet Format</td>\n",
       "      <td>Sanskar Hasija</td>\n",
       "      <td>https://www.kaggle.com/odins0n</td>\n",
       "      <td>9 GB</td>\n",
       "      <td>other</td>\n",
       "      <td>2</td>\n",
       "      <td>83</td>\n",
       "      <td>Gold</td>\n",
       "      <td>10.0</td>\n",
       "      <td>5/26/2022</td>\n",
       "      <td>Thu</td>\n",
       "      <td>04:50:19</td>\n",
       "      <td>https://www.kaggle.com/datasets/odins0n/amex-p...</td>\n",
       "      <td>NaN</td>\n",
       "    </tr>\n",
       "  </tbody>\n",
       "</table>\n",
       "</div>"
      ],
      "text/plain": [
       "                                       title     author_name  \\\n",
       "0                Netflix TV Shows and Movies   Victor Soeiro   \n",
       "1  Supermarket store branches sales analysis       Suraj Jha   \n",
       "2                Student Performance Dataset  Dev Ansodariya   \n",
       "3            Top Hits Spotify from 2000-2019    Mark Koverha   \n",
       "4    Amex Competition Data in Parquet Format  Sanskar Hasija   \n",
       "\n",
       "                              author_id   size file_type no_of_files upvotes  \\\n",
       "0   https://www.kaggle.com/victorsoeiro   2 MB       CSV           2     180   \n",
       "1    https://www.kaggle.com/surajjha101  10 kB       CSV           1     154   \n",
       "2  https://www.kaggle.com/devansodariya   7 kB       CSV           1     108   \n",
       "3    https://www.kaggle.com/paradisejoy  96 kB       CSV           1     120   \n",
       "4        https://www.kaggle.com/odins0n   9 GB     other           2      83   \n",
       "\n",
       "    medal usability       date  day      time  \\\n",
       "0  Bronze      10.0  5/15/2022  Sun  05:31:23   \n",
       "1    Gold      10.0  4/29/2022  Fri  16:40:16   \n",
       "2  Bronze       9.7  5/26/2022  Thu  19:25:09   \n",
       "3  Silver      10.0  5/31/2022  Tue  12:50:57   \n",
       "4    Gold      10.0  5/26/2022  Thu  04:50:19   \n",
       "\n",
       "                                        dataset_link img_link  \n",
       "0  https://www.kaggle.com/datasets/victorsoeiro/n...      NaN  \n",
       "1  https://www.kaggle.com/datasets/surajjha101/st...      NaN  \n",
       "2  https://www.kaggle.com/datasets/devansodariya/...      NaN  \n",
       "3  https://www.kaggle.com/datasets/paradisejoy/to...      NaN  \n",
       "4  https://www.kaggle.com/datasets/odins0n/amex-p...      NaN  "
      ]
     },
     "execution_count": 268,
     "metadata": {},
     "output_type": "execute_result"
    }
   ],
   "source": [
    "df = pd.DataFrame(data, columns = ['title', 'author_name', 'author_id','size','file_type','no_of_files',\n",
    "                             'upvotes','medal','usability','date','day','time','dataset_link','img_link'])\n",
    "\n",
    "df.head()"
   ]
  },
  {
   "cell_type": "markdown",
   "id": "cad25b74",
   "metadata": {},
   "source": [
    "### 3. Checking Null Values"
   ]
  },
  {
   "cell_type": "code",
   "execution_count": 269,
   "id": "bf73401c",
   "metadata": {
    "scrolled": true
   },
   "outputs": [
    {
     "data": {
      "text/plain": [
       "title              0\n",
       "author_name      424\n",
       "author_id        424\n",
       "size             680\n",
       "file_type          0\n",
       "no_of_files       26\n",
       "upvotes           24\n",
       "medal           4544\n",
       "usability         27\n",
       "date              24\n",
       "day               24\n",
       "time              24\n",
       "dataset_link      24\n",
       "img_link        9656\n",
       "dtype: int64"
      ]
     },
     "execution_count": 269,
     "metadata": {},
     "output_type": "execute_result"
    }
   ],
   "source": [
    "df.isnull().sum()"
   ]
  },
  {
   "cell_type": "markdown",
   "id": "8fdd7fbb",
   "metadata": {},
   "source": [
    "### 4. Saving Raw Dataset"
   ]
  },
  {
   "cell_type": "code",
   "execution_count": 270,
   "id": "7c0af74b",
   "metadata": {},
   "outputs": [],
   "source": [
    "df.to_csv('dataset_raw.csv',index = False)"
   ]
  },
  {
   "cell_type": "markdown",
   "id": "e8546135",
   "metadata": {},
   "source": [
    "### 5. Remove Unnecesary Columns"
   ]
  },
  {
   "cell_type": "code",
   "execution_count": 271,
   "id": "49a022ec",
   "metadata": {},
   "outputs": [],
   "source": [
    "del df['img_link']\n",
    "\n",
    "df['medal'] = df['medal'].fillna('No Medal')"
   ]
  },
  {
   "cell_type": "code",
   "execution_count": 272,
   "id": "938776c2",
   "metadata": {
    "scrolled": true
   },
   "outputs": [
    {
     "data": {
      "text/plain": [
       "title             0\n",
       "author_name     424\n",
       "author_id       424\n",
       "size            680\n",
       "file_type         0\n",
       "no_of_files      26\n",
       "upvotes          24\n",
       "medal             0\n",
       "usability        27\n",
       "date             24\n",
       "day              24\n",
       "time             24\n",
       "dataset_link     24\n",
       "dtype: int64"
      ]
     },
     "execution_count": 272,
     "metadata": {},
     "output_type": "execute_result"
    }
   ],
   "source": [
    "df.isnull().sum()"
   ]
  },
  {
   "cell_type": "code",
   "execution_count": 273,
   "id": "3a89773d",
   "metadata": {},
   "outputs": [
    {
     "data": {
      "text/html": [
       "<div>\n",
       "<style scoped>\n",
       "    .dataframe tbody tr th:only-of-type {\n",
       "        vertical-align: middle;\n",
       "    }\n",
       "\n",
       "    .dataframe tbody tr th {\n",
       "        vertical-align: top;\n",
       "    }\n",
       "\n",
       "    .dataframe thead th {\n",
       "        text-align: right;\n",
       "    }\n",
       "</style>\n",
       "<table border=\"1\" class=\"dataframe\">\n",
       "  <thead>\n",
       "    <tr style=\"text-align: right;\">\n",
       "      <th></th>\n",
       "      <th>title</th>\n",
       "      <th>author_name</th>\n",
       "      <th>author_id</th>\n",
       "      <th>size</th>\n",
       "      <th>file_type</th>\n",
       "      <th>no_of_files</th>\n",
       "      <th>upvotes</th>\n",
       "      <th>medal</th>\n",
       "      <th>usability</th>\n",
       "      <th>date</th>\n",
       "      <th>day</th>\n",
       "      <th>time</th>\n",
       "      <th>dataset_link</th>\n",
       "    </tr>\n",
       "  </thead>\n",
       "  <tbody>\n",
       "    <tr>\n",
       "      <th>0</th>\n",
       "      <td>Netflix TV Shows and Movies</td>\n",
       "      <td>Victor Soeiro</td>\n",
       "      <td>https://www.kaggle.com/victorsoeiro</td>\n",
       "      <td>2 MB</td>\n",
       "      <td>CSV</td>\n",
       "      <td>2</td>\n",
       "      <td>180</td>\n",
       "      <td>Bronze</td>\n",
       "      <td>10.0</td>\n",
       "      <td>5/15/2022</td>\n",
       "      <td>Sun</td>\n",
       "      <td>05:31:23</td>\n",
       "      <td>https://www.kaggle.com/datasets/victorsoeiro/n...</td>\n",
       "    </tr>\n",
       "    <tr>\n",
       "      <th>1</th>\n",
       "      <td>Supermarket store branches sales analysis</td>\n",
       "      <td>Suraj Jha</td>\n",
       "      <td>https://www.kaggle.com/surajjha101</td>\n",
       "      <td>10 kB</td>\n",
       "      <td>CSV</td>\n",
       "      <td>1</td>\n",
       "      <td>154</td>\n",
       "      <td>Gold</td>\n",
       "      <td>10.0</td>\n",
       "      <td>4/29/2022</td>\n",
       "      <td>Fri</td>\n",
       "      <td>16:40:16</td>\n",
       "      <td>https://www.kaggle.com/datasets/surajjha101/st...</td>\n",
       "    </tr>\n",
       "    <tr>\n",
       "      <th>2</th>\n",
       "      <td>Student Performance Dataset</td>\n",
       "      <td>Dev Ansodariya</td>\n",
       "      <td>https://www.kaggle.com/devansodariya</td>\n",
       "      <td>7 kB</td>\n",
       "      <td>CSV</td>\n",
       "      <td>1</td>\n",
       "      <td>108</td>\n",
       "      <td>Bronze</td>\n",
       "      <td>9.7</td>\n",
       "      <td>5/26/2022</td>\n",
       "      <td>Thu</td>\n",
       "      <td>19:25:09</td>\n",
       "      <td>https://www.kaggle.com/datasets/devansodariya/...</td>\n",
       "    </tr>\n",
       "    <tr>\n",
       "      <th>3</th>\n",
       "      <td>Top Hits Spotify from 2000-2019</td>\n",
       "      <td>Mark Koverha</td>\n",
       "      <td>https://www.kaggle.com/paradisejoy</td>\n",
       "      <td>96 kB</td>\n",
       "      <td>CSV</td>\n",
       "      <td>1</td>\n",
       "      <td>120</td>\n",
       "      <td>Silver</td>\n",
       "      <td>10.0</td>\n",
       "      <td>5/31/2022</td>\n",
       "      <td>Tue</td>\n",
       "      <td>12:50:57</td>\n",
       "      <td>https://www.kaggle.com/datasets/paradisejoy/to...</td>\n",
       "    </tr>\n",
       "    <tr>\n",
       "      <th>4</th>\n",
       "      <td>Amex Competition Data in Parquet Format</td>\n",
       "      <td>Sanskar Hasija</td>\n",
       "      <td>https://www.kaggle.com/odins0n</td>\n",
       "      <td>9 GB</td>\n",
       "      <td>other</td>\n",
       "      <td>2</td>\n",
       "      <td>83</td>\n",
       "      <td>Gold</td>\n",
       "      <td>10.0</td>\n",
       "      <td>5/26/2022</td>\n",
       "      <td>Thu</td>\n",
       "      <td>04:50:19</td>\n",
       "      <td>https://www.kaggle.com/datasets/odins0n/amex-p...</td>\n",
       "    </tr>\n",
       "  </tbody>\n",
       "</table>\n",
       "</div>"
      ],
      "text/plain": [
       "                                       title     author_name  \\\n",
       "0                Netflix TV Shows and Movies   Victor Soeiro   \n",
       "1  Supermarket store branches sales analysis       Suraj Jha   \n",
       "2                Student Performance Dataset  Dev Ansodariya   \n",
       "3            Top Hits Spotify from 2000-2019    Mark Koverha   \n",
       "4    Amex Competition Data in Parquet Format  Sanskar Hasija   \n",
       "\n",
       "                              author_id   size file_type no_of_files upvotes  \\\n",
       "0   https://www.kaggle.com/victorsoeiro   2 MB       CSV           2     180   \n",
       "1    https://www.kaggle.com/surajjha101  10 kB       CSV           1     154   \n",
       "2  https://www.kaggle.com/devansodariya   7 kB       CSV           1     108   \n",
       "3    https://www.kaggle.com/paradisejoy  96 kB       CSV           1     120   \n",
       "4        https://www.kaggle.com/odins0n   9 GB     other           2      83   \n",
       "\n",
       "    medal usability       date  day      time  \\\n",
       "0  Bronze      10.0  5/15/2022  Sun  05:31:23   \n",
       "1    Gold      10.0  4/29/2022  Fri  16:40:16   \n",
       "2  Bronze       9.7  5/26/2022  Thu  19:25:09   \n",
       "3  Silver      10.0  5/31/2022  Tue  12:50:57   \n",
       "4    Gold      10.0  5/26/2022  Thu  04:50:19   \n",
       "\n",
       "                                        dataset_link  \n",
       "0  https://www.kaggle.com/datasets/victorsoeiro/n...  \n",
       "1  https://www.kaggle.com/datasets/surajjha101/st...  \n",
       "2  https://www.kaggle.com/datasets/devansodariya/...  \n",
       "3  https://www.kaggle.com/datasets/paradisejoy/to...  \n",
       "4  https://www.kaggle.com/datasets/odins0n/amex-p...  "
      ]
     },
     "execution_count": 273,
     "metadata": {},
     "output_type": "execute_result"
    }
   ],
   "source": [
    "df = df.dropna()\n",
    "\n",
    "df.head()"
   ]
  },
  {
   "cell_type": "code",
   "execution_count": 274,
   "id": "032d3a0d",
   "metadata": {
    "scrolled": true
   },
   "outputs": [
    {
     "data": {
      "text/plain": [
       "title           0\n",
       "author_name     0\n",
       "author_id       0\n",
       "size            0\n",
       "file_type       0\n",
       "no_of_files     0\n",
       "upvotes         0\n",
       "medal           0\n",
       "usability       0\n",
       "date            0\n",
       "day             0\n",
       "time            0\n",
       "dataset_link    0\n",
       "dtype: int64"
      ]
     },
     "execution_count": 274,
     "metadata": {},
     "output_type": "execute_result"
    }
   ],
   "source": [
    "df.isnull().sum()"
   ]
  },
  {
   "cell_type": "markdown",
   "id": "7d735323",
   "metadata": {},
   "source": [
    "### 6. Saving the preprocessed Dataset"
   ]
  },
  {
   "cell_type": "code",
   "execution_count": 275,
   "id": "e564fd9b",
   "metadata": {},
   "outputs": [],
   "source": [
    "df.to_csv('datasets.csv',index = False)"
   ]
  }
 ],
 "metadata": {
  "kernelspec": {
   "display_name": "Python 3 (ipykernel)",
   "language": "python",
   "name": "python3"
  },
  "language_info": {
   "codemirror_mode": {
    "name": "ipython",
    "version": 3
   },
   "file_extension": ".py",
   "mimetype": "text/x-python",
   "name": "python",
   "nbconvert_exporter": "python",
   "pygments_lexer": "ipython3",
   "version": "3.9.7"
  }
 },
 "nbformat": 4,
 "nbformat_minor": 5
}
