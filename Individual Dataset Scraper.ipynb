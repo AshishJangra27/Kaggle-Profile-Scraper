{
 "cells": [
  {
   "cell_type": "code",
   "execution_count": 2,
   "id": "27e6a041",
   "metadata": {
    "scrolled": true
   },
   "outputs": [],
   "source": [
    "import time\n",
    "import requests\n",
    "import numpy as np\n",
    "import pandas as pd\n",
    "from tqdm import tqdm\n",
    "import chromedriver_binary\n",
    "from bs4 import BeautifulSoup\n",
    "from selenium import webdriver\n",
    "\n",
    "\n",
    "df = pd.read_csv('dataset_raw.csv')\n",
    "df.head()\n",
    "\n",
    "driver = webdriver.Chrome()\n",
    "\n",
    "data = []"
   ]
  },
  {
   "cell_type": "markdown",
   "id": "66799278",
   "metadata": {},
   "source": [
    "### 1. Scraping Data"
   ]
  },
  {
   "cell_type": "code",
   "execution_count": 3,
   "id": "354da6fc",
   "metadata": {
    "scrolled": true
   },
   "outputs": [
    {
     "name": "stderr",
     "output_type": "stream",
     "text": [
      "100%|███████████████████████████████████████████| 50/50 [02:36<00:00,  3.13s/it]\n"
     ]
    }
   ],
   "source": [
    "driver.get('https://www.kaggle.com/ashishjangra27/')\n",
    "\n",
    "time.sleep(5)\n",
    "\n",
    "for link in tqdm(df['dataset_link']):       # Going through each link\n",
    "    \n",
    "    driver.get(link)                        # Sending Request to each link\n",
    "    \n",
    "    time.sleep(1)\n",
    "    \n",
    "    soup = BeautifulSoup(driver.page_source, 'html.parser')\n",
    "    title = soup.find('h1').text.strip()\n",
    "    \n",
    "    try:\n",
    "        licence        =   soup.find('a',target = '_blank').text\n",
    "    except:\n",
    "        licence = np.nan\n",
    "    try:\n",
    "        views          =   int(soup.find_all('div', style = 'margin-bottom: 36px;')[0].text[5:].strip())\n",
    "    except:\n",
    "        views = np.nan\n",
    "    try:\n",
    "        downloads      =   int(soup.find_all('div', style = 'margin-bottom: 36px;')[1].text[9:].strip())\n",
    "    except:\n",
    "        downloads = np.nan\n",
    "    try:\n",
    "        contributions  =   int(soup.find_all('div', style = 'margin-bottom: 36px;')[3].text[25:].strip())\n",
    "    except:\n",
    "        contributions = np.nan\n",
    "    try:\n",
    "        notebooks      =   int(soup.find_all('div', style = 'margin-bottom: 36px;')[4].text[9:].strip())\n",
    "    except:\n",
    "        notebooks = np.nan\n",
    "    try:\n",
    "        nb_comments    =   int(soup.find_all('div', style = 'margin-bottom: 36px;')[5].text[17:].strip())\n",
    "    except:\n",
    "        nb_comments = np.nan\n",
    "        \n",
    "    data.append([title, views, downloads, contributions, notebooks, nb_comments, licence])"
   ]
  },
  {
   "cell_type": "markdown",
   "id": "93871c9c",
   "metadata": {},
   "source": [
    "### 2. Creating DataFrame"
   ]
  },
  {
   "cell_type": "code",
   "execution_count": 10,
   "id": "8fec8735",
   "metadata": {
    "scrolled": true
   },
   "outputs": [
    {
     "data": {
      "text/html": [
       "<div>\n",
       "<style scoped>\n",
       "    .dataframe tbody tr th:only-of-type {\n",
       "        vertical-align: middle;\n",
       "    }\n",
       "\n",
       "    .dataframe tbody tr th {\n",
       "        vertical-align: top;\n",
       "    }\n",
       "\n",
       "    .dataframe thead th {\n",
       "        text-align: right;\n",
       "    }\n",
       "</style>\n",
       "<table border=\"1\" class=\"dataframe\">\n",
       "  <thead>\n",
       "    <tr style=\"text-align: right;\">\n",
       "      <th></th>\n",
       "      <th>title</th>\n",
       "      <th>views</th>\n",
       "      <th>downloads</th>\n",
       "      <th>contributions</th>\n",
       "      <th>notebooks</th>\n",
       "      <th>nb_comments</th>\n",
       "      <th>licence</th>\n",
       "    </tr>\n",
       "  </thead>\n",
       "  <tbody>\n",
       "    <tr>\n",
       "      <th>0</th>\n",
       "      <td>Netflix TV Shows and Movies</td>\n",
       "      <td>32038.0</td>\n",
       "      <td>5977.0</td>\n",
       "      <td>14.0</td>\n",
       "      <td>11.0</td>\n",
       "      <td>5.0</td>\n",
       "      <td>CC0: Public Domain</td>\n",
       "    </tr>\n",
       "    <tr>\n",
       "      <th>1</th>\n",
       "      <td>Supermarket store branches sales analysis</td>\n",
       "      <td>27866.0</td>\n",
       "      <td>5357.0</td>\n",
       "      <td>8.0</td>\n",
       "      <td>8.0</td>\n",
       "      <td>57.0</td>\n",
       "      <td>CC BY-SA 3.0</td>\n",
       "    </tr>\n",
       "    <tr>\n",
       "      <th>2</th>\n",
       "      <td>Student Performance Dataset</td>\n",
       "      <td>11944.0</td>\n",
       "      <td>2336.0</td>\n",
       "      <td>4.0</td>\n",
       "      <td>1.0</td>\n",
       "      <td>17.0</td>\n",
       "      <td>CC0: Public Domain</td>\n",
       "    </tr>\n",
       "    <tr>\n",
       "      <th>3</th>\n",
       "      <td>Top Hits Spotify from 2000-2019</td>\n",
       "      <td>26987.0</td>\n",
       "      <td>5026.0</td>\n",
       "      <td>16.0</td>\n",
       "      <td>14.0</td>\n",
       "      <td>18.0</td>\n",
       "      <td></td>\n",
       "    </tr>\n",
       "    <tr>\n",
       "      <th>4</th>\n",
       "      <td>Amex Competition Data in Parquet Format</td>\n",
       "      <td>3875.0</td>\n",
       "      <td>612.0</td>\n",
       "      <td>8.0</td>\n",
       "      <td>9.0</td>\n",
       "      <td>14.0</td>\n",
       "      <td>CC0: Public Domain</td>\n",
       "    </tr>\n",
       "  </tbody>\n",
       "</table>\n",
       "</div>"
      ],
      "text/plain": [
       "                                       title    views  downloads  \\\n",
       "0                Netflix TV Shows and Movies  32038.0     5977.0   \n",
       "1  Supermarket store branches sales analysis  27866.0     5357.0   \n",
       "2                Student Performance Dataset  11944.0     2336.0   \n",
       "3            Top Hits Spotify from 2000-2019  26987.0     5026.0   \n",
       "4    Amex Competition Data in Parquet Format   3875.0      612.0   \n",
       "\n",
       "   contributions  notebooks  nb_comments             licence  \n",
       "0           14.0       11.0          5.0  CC0: Public Domain  \n",
       "1            8.0        8.0         57.0        CC BY-SA 3.0  \n",
       "2            4.0        1.0         17.0  CC0: Public Domain  \n",
       "3           16.0       14.0         18.0                      \n",
       "4            8.0        9.0         14.0  CC0: Public Domain  "
      ]
     },
     "execution_count": 10,
     "metadata": {},
     "output_type": "execute_result"
    }
   ],
   "source": [
    "df = pd.DataFrame(data, columns = ['title','views','downloads','contributions',\n",
    "                                   'notebooks','nb_comments','licence'])\n",
    "\n",
    "df.head()"
   ]
  },
  {
   "cell_type": "markdown",
   "id": "61bad096",
   "metadata": {},
   "source": [
    "### 3. Removing Nan Values"
   ]
  },
  {
   "cell_type": "code",
   "execution_count": 15,
   "id": "8810d742",
   "metadata": {},
   "outputs": [],
   "source": [
    "df = df.dropna()"
   ]
  },
  {
   "cell_type": "markdown",
   "id": "7029f96d",
   "metadata": {},
   "source": [
    "### 4. Dealing with Un-Licenced Dataset"
   ]
  },
  {
   "cell_type": "code",
   "execution_count": 22,
   "id": "c52ebc33",
   "metadata": {},
   "outputs": [
    {
     "name": "stderr",
     "output_type": "stream",
     "text": [
      "/var/folders/rq/lwddjvtn5n9gjw05hwrg3hp80000gn/T/ipykernel_12122/2157947686.py:10: SettingWithCopyWarning: \n",
      "A value is trying to be set on a copy of a slice from a DataFrame.\n",
      "Try using .loc[row_indexer,col_indexer] = value instead\n",
      "\n",
      "See the caveats in the documentation: https://pandas.pydata.org/pandas-docs/stable/user_guide/indexing.html#returning-a-view-versus-a-copy\n",
      "  df['licence'] = licence\n"
     ]
    },
    {
     "data": {
      "text/html": [
       "<div>\n",
       "<style scoped>\n",
       "    .dataframe tbody tr th:only-of-type {\n",
       "        vertical-align: middle;\n",
       "    }\n",
       "\n",
       "    .dataframe tbody tr th {\n",
       "        vertical-align: top;\n",
       "    }\n",
       "\n",
       "    .dataframe thead th {\n",
       "        text-align: right;\n",
       "    }\n",
       "</style>\n",
       "<table border=\"1\" class=\"dataframe\">\n",
       "  <thead>\n",
       "    <tr style=\"text-align: right;\">\n",
       "      <th></th>\n",
       "      <th>title</th>\n",
       "      <th>views</th>\n",
       "      <th>downloads</th>\n",
       "      <th>contributions</th>\n",
       "      <th>notebooks</th>\n",
       "      <th>nb_comments</th>\n",
       "      <th>licence</th>\n",
       "    </tr>\n",
       "  </thead>\n",
       "  <tbody>\n",
       "    <tr>\n",
       "      <th>0</th>\n",
       "      <td>Netflix TV Shows and Movies</td>\n",
       "      <td>32038.0</td>\n",
       "      <td>5977.0</td>\n",
       "      <td>14.0</td>\n",
       "      <td>11.0</td>\n",
       "      <td>5.0</td>\n",
       "      <td>CC0: Public Domain</td>\n",
       "    </tr>\n",
       "    <tr>\n",
       "      <th>1</th>\n",
       "      <td>Supermarket store branches sales analysis</td>\n",
       "      <td>27866.0</td>\n",
       "      <td>5357.0</td>\n",
       "      <td>8.0</td>\n",
       "      <td>8.0</td>\n",
       "      <td>57.0</td>\n",
       "      <td>CC BY-SA 3.0</td>\n",
       "    </tr>\n",
       "    <tr>\n",
       "      <th>2</th>\n",
       "      <td>Student Performance Dataset</td>\n",
       "      <td>11944.0</td>\n",
       "      <td>2336.0</td>\n",
       "      <td>4.0</td>\n",
       "      <td>1.0</td>\n",
       "      <td>17.0</td>\n",
       "      <td>CC0: Public Domain</td>\n",
       "    </tr>\n",
       "    <tr>\n",
       "      <th>3</th>\n",
       "      <td>Top Hits Spotify from 2000-2019</td>\n",
       "      <td>26987.0</td>\n",
       "      <td>5026.0</td>\n",
       "      <td>16.0</td>\n",
       "      <td>14.0</td>\n",
       "      <td>18.0</td>\n",
       "      <td>Unlicenced</td>\n",
       "    </tr>\n",
       "    <tr>\n",
       "      <th>4</th>\n",
       "      <td>Amex Competition Data in Parquet Format</td>\n",
       "      <td>3875.0</td>\n",
       "      <td>612.0</td>\n",
       "      <td>8.0</td>\n",
       "      <td>9.0</td>\n",
       "      <td>14.0</td>\n",
       "      <td>CC0: Public Domain</td>\n",
       "    </tr>\n",
       "  </tbody>\n",
       "</table>\n",
       "</div>"
      ],
      "text/plain": [
       "                                       title    views  downloads  \\\n",
       "0                Netflix TV Shows and Movies  32038.0     5977.0   \n",
       "1  Supermarket store branches sales analysis  27866.0     5357.0   \n",
       "2                Student Performance Dataset  11944.0     2336.0   \n",
       "3            Top Hits Spotify from 2000-2019  26987.0     5026.0   \n",
       "4    Amex Competition Data in Parquet Format   3875.0      612.0   \n",
       "\n",
       "   contributions  notebooks  nb_comments             licence  \n",
       "0           14.0       11.0          5.0  CC0: Public Domain  \n",
       "1            8.0        8.0         57.0        CC BY-SA 3.0  \n",
       "2            4.0        1.0         17.0  CC0: Public Domain  \n",
       "3           16.0       14.0         18.0          Unlicenced  \n",
       "4            8.0        9.0         14.0  CC0: Public Domain  "
      ]
     },
     "execution_count": 22,
     "metadata": {},
     "output_type": "execute_result"
    }
   ],
   "source": [
    "licence = []\n",
    "\n",
    "for i in df['licence']:\n",
    "    \n",
    "    if(i == ''):\n",
    "        licence.append('Unlicenced')\n",
    "    else:\n",
    "        licence.append(i)\n",
    "        \n",
    "df['licence'] = licence\n",
    "\n",
    "df.head()"
   ]
  },
  {
   "cell_type": "code",
   "execution_count": 24,
   "id": "d0be7fa5",
   "metadata": {},
   "outputs": [],
   "source": [
    "df.to_csv('dataset.csv',index = False)"
   ]
  },
  {
   "cell_type": "code",
   "execution_count": null,
   "id": "0ae4c280",
   "metadata": {},
   "outputs": [],
   "source": []
  }
 ],
 "metadata": {
  "kernelspec": {
   "display_name": "Python 3 (ipykernel)",
   "language": "python",
   "name": "python3"
  },
  "language_info": {
   "codemirror_mode": {
    "name": "ipython",
    "version": 3
   },
   "file_extension": ".py",
   "mimetype": "text/x-python",
   "name": "python",
   "nbconvert_exporter": "python",
   "pygments_lexer": "ipython3",
   "version": "3.9.7"
  }
 },
 "nbformat": 4,
 "nbformat_minor": 5
}
