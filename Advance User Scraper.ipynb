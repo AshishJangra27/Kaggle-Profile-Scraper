{
 "cells": [
  {
   "cell_type": "code",
   "execution_count": 66,
   "id": "e06e95bb",
   "metadata": {},
   "outputs": [
    {
     "name": "stderr",
     "output_type": "stream",
     "text": [
      "/var/folders/rq/lwddjvtn5n9gjw05hwrg3hp80000gn/T/ipykernel_7958/2658320280.py:11: DeprecationWarning: executable_path has been deprecated, please pass in a Service object\n",
      "  driver = webdriver.Chrome('/Users/ashishzangra/opt/anaconda3/lib/python3.9/site-packages/chromedriver_binary/chromedriver')\n"
     ]
    }
   ],
   "source": [
    "import time\n",
    "import json\n",
    "import requests\n",
    "import numpy as np\n",
    "import pandas as pd\n",
    "from tqdm import tqdm\n",
    "\n",
    "import chromedriver_binary\n",
    "from bs4 import BeautifulSoup\n",
    "from selenium import webdriver\n",
    "\n",
    "driver = webdriver.Chrome('/Users/ashishzangra/opt/anaconda3/lib/python3.9/site-packages/chromedriver_binary/chromedriver')\n",
    "\n",
    "link = 'https://www.kaggle.com/ashishjangra27'\n",
    "\n",
    "driver.get(link)"
   ]
  },
  {
   "cell_type": "markdown",
   "id": "d94255d5",
   "metadata": {},
   "source": [
    "### 1. Scraping Dataset Details"
   ]
  },
  {
   "cell_type": "code",
   "execution_count": 67,
   "id": "d6a18645",
   "metadata": {},
   "outputs": [
    {
     "name": "stdout",
     "output_type": "stream",
     "text": [
      "TED Talk | Youtube\n",
      "https://www.kaggle.com/datasets/ashishjangra27/ted-talk-youtube\n",
      "------------------------------------------------------------\n",
      "Face Mask Detection ~12K Images Dataset\n",
      "https://www.kaggle.com/datasets/ashishjangra27/face-mask-12k-images-dataset\n",
      "------------------------------------------------------------\n",
      "TED Talks\n",
      "https://www.kaggle.com/datasets/ashishjangra27/ted-talks\n",
      "------------------------------------------------------------\n",
      "Gender Classification 200K Images | CelebA\n",
      "https://www.kaggle.com/datasets/ashishjangra27/gender-recognition-200k-images-celeba\n",
      "------------------------------------------------------------\n",
      "GeeksforGeeks Youtube\n",
      "https://www.kaggle.com/datasets/ashishjangra27/geeksforgeeks-youtube\n",
      "------------------------------------------------------------\n",
      "Kaggle Dataset\n",
      "https://www.kaggle.com/datasets/ashishjangra27/kaggle-dataset\n",
      "------------------------------------------------------------\n",
      "GeeksforGeeks Articles\n",
      "https://www.kaggle.com/datasets/ashishjangra27/geeksforgeeks-articles\n",
      "------------------------------------------------------------\n",
      "Gender Classification 20K Images | CelebA\n",
      "https://www.kaggle.com/datasets/ashishjangra27/gender-detection-20k-images-celeba\n",
      "------------------------------------------------------------\n",
      "Bald Classification OR Detection 200K Images\n",
      "https://www.kaggle.com/datasets/ashishjangra27/bald-classification-200k-images-celeba\n",
      "------------------------------------------------------------\n",
      "The Ellen Show\n",
      "https://www.kaggle.com/datasets/ashishjangra27/the-ellen-show\n",
      "------------------------------------------------------------\n"
     ]
    }
   ],
   "source": [
    "driver.get(link + '/datasets')\n",
    "time.sleep(2)\n",
    "\n",
    "soup = BeautifulSoup(driver.page_source, 'html.parser')\n",
    "soup = soup.find('ul',  class_ = 'km-list km-list--three-line')\n",
    "\n",
    "datasets = {}\n",
    "\n",
    "for sp in soup.find_all('li')[:-1]:\n",
    "\n",
    "    link_  = 'https://www.kaggle.com' + sp.find('a').get('href')\n",
    "    title = sp.find('div', class_ = 'sc-iBkjds sc-fLlhyt sc-ckMVTt uVZhN izULIq fxTcSG').text.strip()\n",
    "    \n",
    "    datasets[link_.split('/')[-1]] =  title\n",
    "    \n",
    "    print(title)\n",
    "    print(link_)\n",
    "    print('-'*60)"
   ]
  },
  {
   "cell_type": "markdown",
   "id": "c038e5c9",
   "metadata": {},
   "source": [
    "### 2. Scraping CODE Details"
   ]
  },
  {
   "cell_type": "code",
   "execution_count": 152,
   "id": "ac8c9248",
   "metadata": {},
   "outputs": [
    {
     "name": "stdout",
     "output_type": "stream",
     "text": [
      "TED Talk Youtube | Data Preprocessing\n",
      "Fri May 13 2022 11:37:32 GMT+0530 (India Standard Time)\n",
      "https://www.kaggle.com/code/ashishjangra27/ted-talk-youtube-data-preprocessing\n",
      "------------------------------------------------------------\n",
      "GFG Bootcamp | TED Talk Analysis - Scratch\n",
      "Sun Mar 27 2022 13:14:40 GMT+0530 (India Standard Time)\n",
      "https://www.kaggle.com/code/ashishjangra27/gfg-bootcamp-ted-talk-analysis-scratch\n",
      "------------------------------------------------------------\n",
      "GeeksforGeeks Article Assignment\n",
      "Sat Mar 26 2022 18:55:17 GMT+0530 (India Standard Time)\n",
      "https://www.kaggle.com/code/ashishjangra27/geeksforgeeks-article-assignment\n",
      "------------------------------------------------------------\n",
      "The Ellen Show - Data Analysis\n",
      "Tue Mar 01 2022 11:32:37 GMT+0530 (India Standard Time)\n",
      "https://www.kaggle.com/code/ashishjangra27/the-ellen-show-data-analysis\n",
      "------------------------------------------------------------\n",
      "GeeksforGeeks Articles Analysis\n",
      "Thu Feb 24 2022 03:11:06 GMT+0530 (India Standard Time)\n",
      "https://www.kaggle.com/code/ashishjangra27/geeksforgeeks-articles-analysis\n",
      "------------------------------------------------------------\n",
      "Gender Classification 200K Images Walkthrough\n",
      "Thu Feb 24 2022 01:14:26 GMT+0530 (India Standard Time)\n",
      "https://www.kaggle.com/code/ashishjangra27/gender-classification-200k-images-walkthrough\n",
      "------------------------------------------------------------\n",
      "TED Talk Analysis\n",
      "Thu Feb 24 2022 00:47:03 GMT+0530 (India Standard Time)\n",
      "https://www.kaggle.com/code/ashishjangra27/ted-talk-analysis\n",
      "------------------------------------------------------------\n"
     ]
    }
   ],
   "source": [
    "driver.get(link + '/code')\n",
    "time.sleep(2)\n",
    "\n",
    "soup = BeautifulSoup(driver.page_source, 'html.parser')\n",
    "\n",
    "codes = {}\n",
    "\n",
    "sp = soup.find('ul', class_ = 'km-list km-list--avatar-list km-list--three-line')\n",
    "\n",
    "for i in sp.find_all('li'):\n",
    "\n",
    "    key       = i.find_all('a')[1].get('href').split('/')[-1]\n",
    "    date_time = i.find_all('a')[1].find_all('span')[0].find('span').find('span').find('span').get('title')\n",
    "    title_    = i.find('div', class_ = 'sc-iBkjds sc-fLlhyt sc-ckMVTt uVZhN izULIq fxTcSG').text.strip()\n",
    "    \n",
    "    codes[key] = {'date_time' : date_time, 'title' : title_}\n",
    "    \n",
    "    print(title_)\n",
    "    print(date_time)\n",
    "    print('https://www.kaggle.com' + i.find_all('a')[1].get('href'))\n",
    "    \n",
    "    print('-'*60)"
   ]
  },
  {
   "cell_type": "markdown",
   "id": "0c3fbb30",
   "metadata": {},
   "source": [
    "### 3. Scraping Followers Details"
   ]
  },
  {
   "cell_type": "code",
   "execution_count": 190,
   "id": "31a2ecb3",
   "metadata": {},
   "outputs": [
    {
     "name": "stdout",
     "output_type": "stream",
     "text": [
      "/yasserhessein  :  Yasir Hussein Shakir\n",
      "/sarthakvajpayee  :  Sarthak Vajpayee\n",
      "/zangrajazz  :  Ashish Jangra\n",
      "/harneetkalsy  :  Harneet Kaur\n",
      "/priyanshi04  :  Priyanshi Patel\n",
      "/fancyangelineu  :  Fancy Angeline U\n",
      "/aaayushigour  :  Aayushi Gour\n",
      "/lirui111  :  lirui_111\n",
      "/ajit12345  :  ajit kumar\n",
      "/mihirraj19  :  MIHIR RAJ\n",
      "/poojabhagat0185  :  Pooja Bhagat\n",
      "/ullasrk  :  Ullas R K\n",
      "/issactj  :  Issac Thomas Jose\n",
      "/mohammedsafaa  :  Mohammed Safaa\n",
      "/cassimahmedattia  :  Cassim Ahmed Attia\n",
      "/sushanthreddym  :  Sushant Reddy\n",
      "/preetichaudhari  :  Preeti Chaudhari\n",
      "/mahak93  :  mahak93\n",
      "/aarcane24  :  Janhavi Sarambale\n",
      "/jaydeepjadhav  :  Jaydeep Jadhav\n",
      "/ravitejamannam  :  Raviteja Mannam\n",
      "/aslizoumpoul  :  aslizoumpoul\n",
      "/arslanahamd  :  Arslan Ahamd\n",
      "/vaishnavrathod50  :  Vaishnav Rathod\n",
      "/vikramjeetdhiman  :  Vikramjeet Dhiman\n",
      "/sivakowsika  :  Siva Kowsika\n",
      "/ivanquiones  :  Ivan Quiñones\n",
      "/nikhilmahana  :  Nikhil Mahana\n",
      "/donawalker  :  Dona Walker\n",
      "/esselte974  :  esselte974\n",
      "/parvezkhan0231  :  Parvez Khan\n",
      "/parthraheja  :  Parth Raheja\n",
      "/ayushijainn22  :  Ayushijainn22\n",
      "/carlsen116  :  Shyam Agarwal\n",
      "/shailendrabhatt  :  Shailendra Bhatt\n",
      "/kbell1123  :  kbell1123\n",
      "/rishitapathak  :  Rishita Pathak\n",
      "/nethrakashyap  :  Nethra Kashyap\n",
      "/goguthirupathi  :  Gogu Thirupathi\n",
      "/adityarao01  :  Aditya Rao01\n",
      "/akshityadav370  :  AKSHIT YADAV370\n",
      "/karunya06  :  karunya_s\n",
      "/sreeprasanthj  :  Sree Prasanth J\n",
      "/bhavanavemuri  :  Bhavana Vemuri\n",
      "/littlemonster23  :  Little Monster23\n"
     ]
    }
   ],
   "source": [
    "driver.get(link + '/followers')\n",
    "time.sleep(2)\n",
    "\n",
    "soup = BeautifulSoup(driver.page_source, 'html.parser')\n",
    "soup = soup.find('div', class_ = 'followers__content')\n",
    "\n",
    "followers = {}\n",
    "\n",
    "for sp in soup.find_all('a', 'followers__link'):\n",
    "    \n",
    "    id_   = sp.get('href').strip()\n",
    "    name_ = sp.text.strip()\n",
    "    \n",
    "    followers[id_[1:]] = name_\n",
    "    \n",
    "    print (id_ , ' : ', name_)"
   ]
  },
  {
   "cell_type": "markdown",
   "id": "5977e3bb",
   "metadata": {},
   "source": [
    "### 4. Combining in Master Dictionary"
   ]
  },
  {
   "cell_type": "code",
   "execution_count": 197,
   "id": "7b09278f",
   "metadata": {},
   "outputs": [],
   "source": [
    "dct = {}\n",
    "\n",
    "dct['codes']      = codes\n",
    "dct['datasets']   = datasets\n",
    "dct['followers']  = followers"
   ]
  },
  {
   "cell_type": "markdown",
   "id": "c3eef224",
   "metadata": {},
   "source": [
    "### 5. Exporting it as JSON"
   ]
  },
  {
   "cell_type": "code",
   "execution_count": 203,
   "id": "f8016093",
   "metadata": {},
   "outputs": [],
   "source": [
    "fd = open('data.json','w')\n",
    "\n",
    "fd.write(json.dumps(dct))\n",
    "\n",
    "fd.close()"
   ]
  },
  {
   "cell_type": "code",
   "execution_count": null,
   "id": "9e62246f",
   "metadata": {},
   "outputs": [],
   "source": []
  }
 ],
 "metadata": {
  "kernelspec": {
   "display_name": "Python 3 (ipykernel)",
   "language": "python",
   "name": "python3"
  },
  "language_info": {
   "codemirror_mode": {
    "name": "ipython",
    "version": 3
   },
   "file_extension": ".py",
   "mimetype": "text/x-python",
   "name": "python",
   "nbconvert_exporter": "python",
   "pygments_lexer": "ipython3",
   "version": "3.9.7"
  }
 },
 "nbformat": 4,
 "nbformat_minor": 5
}
